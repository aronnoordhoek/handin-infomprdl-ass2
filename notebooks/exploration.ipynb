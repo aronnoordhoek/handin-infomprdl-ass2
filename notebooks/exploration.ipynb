{
 "cells": [
  {
   "cell_type": "markdown",
   "id": "861ad609dd0399da",
   "metadata": {
    "collapsed": false
   },
   "source": [
    "# Dependencies"
   ]
  },
  {
   "cell_type": "code",
   "execution_count": null,
   "id": "initial_id",
   "metadata": {
    "collapsed": true
   },
   "outputs": [],
   "source": [
    "import os\n",
    "import h5py\n",
    "\n",
    "import numpy as np\n",
    "import pandas as pd\n",
    "import matplotlib.pyplot as plt\n",
    "import seaborn as sns\n",
    "\n",
    "from tqdm import tqdm"
   ]
  },
  {
   "cell_type": "code",
   "execution_count": null,
   "id": "9053aabaaca8fcae",
   "metadata": {
    "collapsed": false
   },
   "outputs": [],
   "source": [
    "from scripts.constants import RANDOM_SEED\n",
    "from scripts.utils import get_dataset_by_name, z_score_norm, resample_features, extract_zip_file"
   ]
  },
  {
   "cell_type": "markdown",
   "id": "5f52cbb935f354b1",
   "metadata": {
    "collapsed": false
   },
   "source": [
    "# Setup"
   ]
  },
  {
   "cell_type": "code",
   "execution_count": null,
   "id": "6b2410a47e5b8fc5",
   "metadata": {
    "collapsed": false
   },
   "outputs": [],
   "source": [
    "import logging\n",
    "logging.basicConfig(level=logging.INFO)"
   ]
  },
  {
   "cell_type": "code",
   "execution_count": null,
   "id": "21642e99bc5bc4cb",
   "metadata": {
    "collapsed": false
   },
   "outputs": [],
   "source": [
    "data_dir = os.path.join('..', 'data')"
   ]
  },
  {
   "cell_type": "markdown",
   "id": "11559894a0c9c327",
   "metadata": {
    "collapsed": false
   },
   "source": [
    "# Data Preperation"
   ]
  },
  {
   "cell_type": "code",
   "execution_count": null,
   "id": "55b5b3af6e95df8b",
   "metadata": {
    "collapsed": false
   },
   "outputs": [],
   "source": [
    "# Unzipping dataset contents if not yet done\n",
    "extract_zip_file()"
   ]
  },
  {
   "cell_type": "code",
   "execution_count": null,
   "id": "dd92015c36982fcb",
   "metadata": {
    "collapsed": false
   },
   "outputs": [],
   "source": [
    "np_rest_105923 = get_dataset_by_name(dataset_name='rest_105923', dataset_dir=os.path.join(data_dir, 'intra', 'train'))"
   ]
  },
  {
   "cell_type": "markdown",
   "id": "3cc193fabb890b6b",
   "metadata": {
    "collapsed": false
   },
   "source": [
    "# Exploratory plots"
   ]
  },
  {
   "cell_type": "code",
   "execution_count": null,
   "id": "6a4629eca2fbab26",
   "metadata": {
    "collapsed": false
   },
   "outputs": [],
   "source": [
    "np_rest_105923_norm = z_score_norm(np_rest_105923)"
   ]
  },
  {
   "cell_type": "code",
   "execution_count": null,
   "id": "65a4ea48ef74e0a1",
   "metadata": {
    "collapsed": false
   },
   "outputs": [],
   "source": [
    "# First 100 time steps of the 248 features.\n",
    "fig, axs = plt.subplots(1, 2, figsize=(20, 6))\n",
    "\n",
    "axs[0] = sns.lineplot(data=np_rest_105923[:, :100].T, ax=axs[0])\n",
    "axs[0].get_legend().remove()\n",
    "axs[0].set_title('Original MEG Data')\n",
    "axs[0].set_ylabel('Magnetic Field (fT)')\n",
    "axs[0].set_xlabel('Timestep (2034hz)')\n",
    "\n",
    "axs[1] = sns.lineplot(data=np_rest_105923_norm[:, :100].T, ax=axs[1])\n",
    "axs[1].get_legend().remove()\n",
    "axs[1].set_title('Z-Score Normalized MEG Data')\n",
    "axs[1].set_ylabel('Normalized Measurement')\n",
    "axs[1].set_xlabel('Timestep (2034hz)')\n",
    "\n",
    "plt.show()"
   ]
  },
  {
   "cell_type": "code",
   "execution_count": null,
   "id": "939abd610f7f1315",
   "metadata": {
    "collapsed": false
   },
   "outputs": [],
   "source": [
    "correlations_test = np.corrcoef(np_rest_105923)\n",
    "\n",
    "plt.figure(figsize=(12, 10))\n",
    "sns.heatmap(correlations_test, annot=False, cmap='coolwarm')\n",
    "plt.title('Feature Correlation Heatmap')\n",
    "plt.xlabel('Features')\n",
    "plt.ylabel('Features')\n",
    "plt.show()"
   ]
  },
  {
   "cell_type": "code",
   "execution_count": null,
   "id": "7394de11f9c2a50c",
   "metadata": {
    "collapsed": false
   },
   "outputs": [],
   "source": [
    "# TODO: a hyperparameter to tune up most likely\n",
    "downsampling_factor = 2034 // 50  # 100 samples per second\n",
    "logging.info(f'Downsampling factor: {downsampling_factor}')\n",
    "np_rest_105923_downsampled = resample_features(np_rest_105923_norm, downsampling_factor)"
   ]
  },
  {
   "cell_type": "code",
   "execution_count": null,
   "id": "f1d3d049c3311c00",
   "metadata": {
    "collapsed": false
   },
   "outputs": [],
   "source": [
    "plt.rcParams.update({'font.size': 20})\n",
    "\n",
    "num_timesteps_sample = round(0.64*2034)\n",
    "\n",
    "full_data_sample = np_rest_105923_norm[0, :num_timesteps_sample]\n",
    "downsampled_data_sample = np_rest_105923_downsampled[0, :num_timesteps_sample // downsampling_factor]\n",
    "\n",
    "x = np.arange(0, num_timesteps_sample, 1)\n",
    "xnew = np.linspace(0, num_timesteps_sample, len(downsampled_data_sample), endpoint=False)\n",
    "\n",
    "plt.figure(figsize=(20, 6))\n",
    "plt.plot(x, full_data_sample, 'go-', label='Feature 0')\n",
    "plt.plot(xnew, downsampled_data_sample, 'b.-', label='Feature 0 resampled')\n",
    "# https://docs.scipy.org/doc/scipy/reference/generated/scipy.signal.resample.html\n",
    "# 'Note that the end of the resampled data rises to meet the first sample of the next cycle'\n",
    "plt.plot(num_timesteps_sample, full_data_sample[0], 'ro', label='First Original Point') \n",
    "plt.legend(loc='best')\n",
    "plt.title(f\"Original vs ~{downsampling_factor}x Downsampled Data (n={num_timesteps_sample} -> n={32})\")\n",
    "plt.xlabel(\"Timestep\")\n",
    "plt.ylabel(\"Normalized sensor value\")\n",
    "plt.grid(True)\n",
    "plt.show()"
   ]
  }
 ],
 "metadata": {
  "kernelspec": {
   "display_name": "Python 3",
   "language": "python",
   "name": "python3"
  },
  "language_info": {
   "codemirror_mode": {
    "name": "ipython",
    "version": 2
   },
   "file_extension": ".py",
   "mimetype": "text/x-python",
   "name": "python",
   "nbconvert_exporter": "python",
   "pygments_lexer": "ipython2",
   "version": "3.11.5"
  }
 },
 "nbformat": 4,
 "nbformat_minor": 5
}
